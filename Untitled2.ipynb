{
  "nbformat": 4,
  "nbformat_minor": 0,
  "metadata": {
    "colab": {
      "provenance": [],
      "authorship_tag": "ABX9TyMz+QqtQ62U6/ogvJD5lEn7",
      "include_colab_link": true
    },
    "kernelspec": {
      "name": "python3",
      "display_name": "Python 3"
    },
    "language_info": {
      "name": "python"
    }
  },
  "cells": [
    {
      "cell_type": "markdown",
      "metadata": {
        "id": "view-in-github",
        "colab_type": "text"
      },
      "source": [
        "<a href=\"https://colab.research.google.com/github/Ratnamreddy/Assignment_3/blob/main/Untitled2.ipynb\" target=\"_parent\"><img src=\"https://colab.research.google.com/assets/colab-badge.svg\" alt=\"Open In Colab\"/></a>"
      ]
    },
    {
      "cell_type": "code",
      "execution_count": 1,
      "metadata": {
        "colab": {
          "base_uri": "https://localhost:8080/"
        },
        "id": "4xHkcYzPPcy0",
        "outputId": "c06545f7-ce56-4fbf-a3fb-d43c5ce3e957"
      },
      "outputs": [
        {
          "output_type": "stream",
          "name": "stdout",
          "text": [
            "Optimal x: 1.6069380442589756e-40\n",
            "Optimal y: 3.979285864591018\n",
            "Optimal value: 10.093494940901483\n"
          ]
        }
      ],
      "source": [
        "import numpy as np\n",
        "\n",
        "# Define the function and its partial derivatives\n",
        "def f(x, y):\n",
        "    return 3*x**2 + 5*np.exp(-y) + 10\n",
        "\n",
        "def grad_f(x, y):\n",
        "    df_dx = 6*x\n",
        "    df_dy = -5*np.exp(-y)\n",
        "    return np.array([df_dx, df_dy])\n",
        "\n",
        "# Gradient Descent Parameters\n",
        "x, y = 1, 1  # Initial point\n",
        "eta = 0.1  # Learning rate\n",
        "iterations = 100  # Maximum number of iterations\n",
        "\n",
        "# Gradient Descent Loop\n",
        "history = []  # Store iteration history\n",
        "for i in range(iterations):\n",
        "    grad = grad_f(x, y)  # Compute gradient\n",
        "    x -= eta * grad[0]  # Update x\n",
        "    y -= eta * grad[1]  # Update y\n",
        "    history.append((i+1, x, y, f(x, y)))\n",
        "\n",
        "# Display results\n",
        "optimal_x, optimal_y = x, y\n",
        "optimal_value = f(x, y)\n",
        "\n",
        "print(f\"Optimal x: {optimal_x}\")\n",
        "print(f\"Optimal y: {optimal_y}\")\n",
        "print(f\"Optimal value: {optimal_value}\")\n"
      ]
    },
    {
      "cell_type": "code",
      "source": [],
      "metadata": {
        "id": "JqtAeu_3PjS3"
      },
      "execution_count": null,
      "outputs": []
    }
  ]
}